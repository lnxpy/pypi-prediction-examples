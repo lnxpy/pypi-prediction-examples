{
 "cells": [
  {
   "cell_type": "markdown",
   "id": "2f35cd51-8910-4d34-b740-f049c5e586ab",
   "metadata": {},
   "source": [
    "# PyPI Package Download Rate Prediction"
   ]
  },
  {
   "cell_type": "markdown",
   "id": "78a04256-f07b-4a40-bbee-bc9ed8952e3d",
   "metadata": {},
   "source": [
    "This is a quick example of using MindsDB's `lightwood` for training a model based on PyPI's statistics stored on Google's BigQuery. This implementation is based on MindsDB's PyPI Handler."
   ]
  },
  {
   "cell_type": "markdown",
   "id": "eb86068d-e854-498e-a248-0ae0ba84ddc0",
   "metadata": {},
   "source": [
    "#### Training"
   ]
  },
  {
   "cell_type": "markdown",
   "id": "7fb03a69-157a-46a2-8f0f-c931130a47e8",
   "metadata": {},
   "source": [
    "The following SQL query helps you create and train model named `pypi_model` based on your `<PACKAGE-NAME>`."
   ]
  },
  {
   "cell_type": "markdown",
   "id": "8e6f78b3-46b2-466e-8095-7ac9137f302a",
   "metadata": {},
   "source": [
    "```sql\n",
    "CREATE DATABASE pypi_datasource\n",
    "WITH ENGINE = 'pypi';\n",
    "\n",
    "CREATE MODEL mindsdb.pypi_model\n",
    "FROM pypi_datasource\n",
    "  (SELECT *\n",
    "FROM pypi_datasource.overall WHERE package=\"<PACKAGE-NAME>\" AND mirrors=true limit 500)\n",
    "PREDICT downloads;\n",
    "```"
   ]
  },
  {
   "cell_type": "markdown",
   "id": "3e704153-36bf-44b7-8ba2-bc2b120c6502",
   "metadata": {},
   "source": [
    "#### Installing the requirements"
   ]
  },
  {
   "cell_type": "code",
   "execution_count": null,
   "id": "02e3fd23-0df5-4657-9a02-4099cb99a6f4",
   "metadata": {},
   "outputs": [],
   "source": [
    "!pip install -r requirements.txt"
   ]
  },
  {
   "cell_type": "markdown",
   "id": "576d0813-6a50-4001-a25b-0acb98364cd3",
   "metadata": {},
   "source": [
    "#### Specifieng the required CONSTANT variables"
   ]
  },
  {
   "cell_type": "code",
   "execution_count": 5,
   "id": "ca4daf54-c55d-4970-941c-d791df05ba01",
   "metadata": {},
   "outputs": [],
   "source": [
    "DAYS_TO_BE_PREDICTED = 100\n",
    "MINDSDB_INSTANCE = \"http://127.0.0.1:47334\"\n",
    "PACKAGE_NAME = \"requests\""
   ]
  },
  {
   "cell_type": "markdown",
   "id": "9f46b817-715e-4265-aa60-e6e310a65672",
   "metadata": {},
   "source": [
    "Note: Make sure that your model is trained based on the same `PACKAGE_NAME`."
   ]
  },
  {
   "cell_type": "markdown",
   "id": "96a13fe0-7d06-4491-93b9-fccebff5855b",
   "metadata": {},
   "source": [
    "#### Importing the requirments"
   ]
  },
  {
   "cell_type": "code",
   "execution_count": 6,
   "id": "175bae87-eb06-4b16-8a2a-7e0b04e444d1",
   "metadata": {},
   "outputs": [],
   "source": [
    "from datetime import datetime, timedelta\n",
    "\n",
    "import mindsdb_sdk\n",
    "import pandas as pd\n",
    "import plotly.graph_objects as go"
   ]
  },
  {
   "cell_type": "markdown",
   "id": "032ace20-c960-4dbb-8f0f-812151fc2a3f",
   "metadata": {},
   "source": [
    "#### Connecting to the MindsDB's instance"
   ]
  },
  {
   "cell_type": "code",
   "execution_count": 7,
   "id": "ac616196-7d2b-4883-8303-4a4720cce4b9",
   "metadata": {},
   "outputs": [],
   "source": [
    "server = mindsdb_sdk.connect()\n",
    "server = mindsdb_sdk.connect(MINDSDB_INSTANCE)\n",
    "\n",
    "databases = server.list_databases()\n",
    "database = databases[-1]"
   ]
  },
  {
   "cell_type": "markdown",
   "id": "d646cee1-ac14-4432-9b01-815c70766d85",
   "metadata": {},
   "source": [
    "### Taking the trained data for _overall plotting_"
   ]
  },
  {
   "cell_type": "code",
   "execution_count": 8,
   "id": "c91c3400-043c-437e-a75d-2f8414ddd480",
   "metadata": {},
   "outputs": [],
   "source": [
    "query = database.query(\n",
    "    f'SELECT date, downloads FROM pypi_datasource.overall WHERE package=\"{PACKAGE_NAME}\" AND mirrors=true limit 500'\n",
    ")\n",
    "overall_df = query.fetch()"
   ]
  },
  {
   "cell_type": "markdown",
   "id": "4d44b19f-96a7-47a6-aeef-80630eaf93b0",
   "metadata": {},
   "source": [
    "### Prediction phase"
   ]
  },
  {
   "cell_type": "code",
   "execution_count": 12,
   "id": "cf561291-d272-48fa-ad9c-2b02d4b64d81",
   "metadata": {},
   "outputs": [],
   "source": [
    "# an empty dataframe\n",
    "predicted_df = pd.DataFrame(columns=[\"date\", \"downloads\"])\n",
    "\n",
    "today = datetime.today()\n",
    "current_date = (today - timedelta(days=180)).date()\n",
    "\n",
    "for i in range(DAYS_TO_BE_PREDICTED):\n",
    "    query = database.query(\n",
    "        f'SELECT date, downloads FROM mindsdb.pypi_model WHERE date=\"{current_date}\"'\n",
    "    )\n",
    "    predicted_value = query.fetch()\n",
    "    current_date = (today + timedelta(days=i)).date()\n",
    "    predicted_df = pd.concat([predicted_df, query.fetch()], ignore_index=True)"
   ]
  },
  {
   "cell_type": "markdown",
   "id": "537ad5fb-0267-458c-b7c4-ca7d8876de2c",
   "metadata": {},
   "source": [
    "Now, our `predicted_df` is filled with the predicted values from 180 days before till the next `DAYS_TO_BE_PREDICTED` days. We have access to both `predicted_df` and `overall_df`. It's time for plotting!"
   ]
  },
  {
   "cell_type": "markdown",
   "id": "bed96979-3427-485e-8534-5fc693993a79",
   "metadata": {},
   "source": [
    "### Plotting"
   ]
  },
  {
   "cell_type": "code",
   "execution_count": 15,
   "id": "655d5af8-e013-4e4f-bbcf-1291d716d91f",
   "metadata": {},
   "outputs": [
    {
     "data": {
      "application/vnd.plotly.v1+json": {
       "config": {
        "plotlyServerURL": "https://plot.ly"
       },
       "data": [
        {
         "mode": "lines",
         "name": "Data",
         "type": "scatter",
         "x": [
          "2023-02-19",
          "2023-02-20",
          "2023-02-21",
          "2023-02-22",
          "2023-02-23",
          "2023-02-24",
          "2023-02-25",
          "2023-02-26",
          "2023-02-27",
          "2023-02-28",
          "2023-03-01",
          "2023-03-02",
          "2023-03-03",
          "2023-03-04",
          "2023-03-05",
          "2023-03-06",
          "2023-03-07",
          "2023-03-08",
          "2023-03-09",
          "2023-03-10",
          "2023-03-11",
          "2023-03-12",
          "2023-03-13",
          "2023-03-14",
          "2023-03-15",
          "2023-03-16",
          "2023-03-17",
          "2023-03-18",
          "2023-03-19",
          "2023-03-20",
          "2023-03-21",
          "2023-03-22",
          "2023-03-23",
          "2023-03-24",
          "2023-03-25",
          "2023-03-26",
          "2023-03-27",
          "2023-03-28",
          "2023-03-29",
          "2023-03-30",
          "2023-03-31",
          "2023-04-01",
          "2023-04-02",
          "2023-04-03",
          "2023-04-04",
          "2023-04-05",
          "2023-04-06",
          "2023-04-07",
          "2023-04-08",
          "2023-04-09",
          "2023-04-10",
          "2023-04-11",
          "2023-04-12",
          "2023-04-13",
          "2023-04-14",
          "2023-04-15",
          "2023-04-16",
          "2023-04-17",
          "2023-04-18",
          "2023-04-19",
          "2023-04-20",
          "2023-04-21",
          "2023-04-22",
          "2023-04-23",
          "2023-04-24",
          "2023-04-25",
          "2023-04-26",
          "2023-04-27",
          "2023-04-28",
          "2023-04-29",
          "2023-04-30",
          "2023-05-01",
          "2023-05-02",
          "2023-05-03",
          "2023-05-04",
          "2023-05-05",
          "2023-05-06",
          "2023-05-07",
          "2023-05-08",
          "2023-05-09",
          "2023-05-10",
          "2023-05-11",
          "2023-05-12",
          "2023-05-13",
          "2023-05-14",
          "2023-05-15",
          "2023-05-16",
          "2023-05-17",
          "2023-05-18",
          "2023-05-19",
          "2023-05-20",
          "2023-05-21",
          "2023-05-22",
          "2023-05-23",
          "2023-05-24",
          "2023-05-25",
          "2023-05-26",
          "2023-05-27",
          "2023-05-28",
          "2023-05-29",
          "2023-05-30",
          "2023-05-31",
          "2023-06-01",
          "2023-06-02",
          "2023-06-03",
          "2023-06-04",
          "2023-06-05",
          "2023-06-06",
          "2023-06-07",
          "2023-06-08",
          "2023-06-09",
          "2023-06-10",
          "2023-06-11",
          "2023-06-12",
          "2023-06-13",
          "2023-06-14",
          "2023-06-15",
          "2023-06-16",
          "2023-06-17",
          "2023-06-18",
          "2023-06-19",
          "2023-06-20",
          "2023-06-21",
          "2023-06-22",
          "2023-06-23",
          "2023-06-24",
          "2023-06-25",
          "2023-06-26",
          "2023-06-27",
          "2023-06-28",
          "2023-06-29",
          "2023-06-30",
          "2023-07-01",
          "2023-07-02",
          "2023-07-03",
          "2023-07-04",
          "2023-07-05",
          "2023-07-06",
          "2023-07-07",
          "2023-07-08",
          "2023-07-09",
          "2023-07-10",
          "2023-07-11",
          "2023-07-12",
          "2023-07-13",
          "2023-07-14",
          "2023-07-15",
          "2023-07-16",
          "2023-07-17",
          "2023-07-18",
          "2023-07-19",
          "2023-07-20",
          "2023-07-21",
          "2023-07-22",
          "2023-07-23",
          "2023-07-24",
          "2023-07-25",
          "2023-07-26",
          "2023-07-27",
          "2023-07-28",
          "2023-07-29",
          "2023-07-30",
          "2023-07-31",
          "2023-08-01",
          "2023-08-02",
          "2023-08-03",
          "2023-08-04",
          "2023-08-05",
          "2023-08-06",
          "2023-08-07",
          "2023-08-08",
          "2023-08-09",
          "2023-08-10",
          "2023-08-11",
          "2023-08-12",
          "2023-08-13",
          "2023-08-14",
          "2023-08-15",
          "2023-08-16",
          "2023-08-17",
          "2023-08-18"
         ],
         "y": [
          6816997,
          9752751,
          10311303,
          11067099,
          11195492,
          10660879,
          7223736,
          7035681,
          10859511,
          11366324,
          11309819,
          11201337,
          10595057,
          7307183,
          7108631,
          10934875,
          11284416,
          10825640,
          11311661,
          10890398,
          7242000,
          7135531,
          10805441,
          11169230,
          11664040,
          11331696,
          10740519,
          7369846,
          7313614,
          11050846,
          11547759,
          11296150,
          11503559,
          10789761,
          7227271,
          7026270,
          10907598,
          11498549,
          11128255,
          11345369,
          10611067,
          7420661,
          6984549,
          10858433,
          11278108,
          11650259,
          11052185,
          8995032,
          6960974,
          6895486,
          9794274,
          11084868,
          11240290,
          11586444,
          10975402,
          7706096,
          7531438,
          11379053,
          11900229,
          12322503,
          11995693,
          10514482,
          7642598,
          7695741,
          11547431,
          11299692,
          11077251,
          11027604,
          10502420,
          6556964,
          6472146,
          8670846,
          10670205,
          10938275,
          11341041,
          12157017,
          8369238,
          8125046,
          11974622,
          12501067,
          12252970,
          12476041,
          11608979,
          7983127,
          7969221,
          11890928,
          12073916,
          11749446,
          11388474,
          10925623,
          7265301,
          7153632,
          11216276,
          11814589,
          11462550,
          11067364,
          10248951,
          6661885,
          6573846,
          9191886,
          10914490,
          11254568,
          11186393,
          10326425,
          6401906,
          6607258,
          10791500,
          10964488,
          10785797,
          10087659,
          10077917,
          6773245,
          6384133,
          10469705,
          10818866,
          11297970,
          11036392,
          10053513,
          6326352,
          6183654,
          9656453,
          10655511,
          10778248,
          10618294,
          9713100,
          6415234,
          6766696,
          10455317,
          11029446,
          10991739,
          10681260,
          9838524,
          6390360,
          6210002,
          9557416,
          9696767,
          10327788,
          10563305,
          9956813,
          6352215,
          6212602,
          10471372,
          10923437,
          10907696,
          10888344,
          9991468,
          6833404,
          7210436,
          11777320,
          12490124,
          12509043,
          12900834,
          11888384,
          7422125,
          7230764,
          12406921,
          13271090,
          13159569,
          13033803,
          12142339,
          7638779,
          7434357,
          12387994,
          13258515,
          13480627,
          13249426,
          12168491,
          7400251,
          7449717,
          12285371,
          13117588,
          12940551,
          12932934,
          11602907,
          7486561,
          7291715,
          12114336,
          12118483,
          12723765,
          12712452,
          11665657
         ]
        },
        {
         "mode": "lines",
         "name": "Prediction",
         "type": "scatter",
         "x": [
          "2023-02-20 00:00:00.000000",
          "2023-08-19 00:00:00.000000",
          "2023-08-20 00:00:00.000000",
          "2023-08-21 00:00:00.000000",
          "2023-08-22 00:00:00.000000",
          "2023-08-23 00:00:00.000000",
          "2023-08-24 00:00:00.000000",
          "2023-08-25 00:00:00.000000",
          "2023-08-26 00:00:00.000000",
          "2023-08-27 00:00:00.000000",
          "2023-08-28 00:00:00.000000",
          "2023-08-29 00:00:00.000000",
          "2023-08-30 00:00:00.000000",
          "2023-08-31 00:00:00.000000",
          "2023-09-01 00:00:00.000000",
          "2023-09-02 00:00:00.000000",
          "2023-09-03 00:00:00.000000",
          "2023-09-04 00:00:00.000000",
          "2023-09-05 00:00:00.000000",
          "2023-09-06 00:00:00.000000",
          "2023-09-07 00:00:00.000000",
          "2023-09-08 00:00:00.000000",
          "2023-09-09 00:00:00.000000",
          "2023-09-10 00:00:00.000000",
          "2023-09-11 00:00:00.000000",
          "2023-09-12 00:00:00.000000",
          "2023-09-13 00:00:00.000000",
          "2023-09-14 00:00:00.000000",
          "2023-09-15 00:00:00.000000",
          "2023-09-16 00:00:00.000000",
          "2023-09-17 00:00:00.000000",
          "2023-09-18 00:00:00.000000",
          "2023-09-19 00:00:00.000000",
          "2023-09-20 00:00:00.000000",
          "2023-09-21 00:00:00.000000",
          "2023-09-22 00:00:00.000000",
          "2023-09-23 00:00:00.000000",
          "2023-09-24 00:00:00.000000",
          "2023-09-25 00:00:00.000000",
          "2023-09-26 00:00:00.000000",
          "2023-09-27 00:00:00.000000",
          "2023-09-28 00:00:00.000000",
          "2023-09-29 00:00:00.000000",
          "2023-09-30 00:00:00.000000",
          "2023-10-01 00:00:00.000000",
          "2023-10-02 00:00:00.000000",
          "2023-10-03 00:00:00.000000",
          "2023-10-04 00:00:00.000000",
          "2023-10-05 00:00:00.000000",
          "2023-10-06 00:00:00.000000",
          "2023-10-07 00:00:00.000000",
          "2023-10-08 00:00:00.000000",
          "2023-10-09 00:00:00.000000",
          "2023-10-10 00:00:00.000000",
          "2023-10-11 00:00:00.000000",
          "2023-10-12 00:00:00.000000",
          "2023-10-13 00:00:00.000000",
          "2023-10-14 00:00:00.000000",
          "2023-10-15 00:00:00.000000",
          "2023-10-16 00:00:00.000000",
          "2023-10-17 00:00:00.000000",
          "2023-10-18 00:00:00.000000",
          "2023-10-19 00:00:00.000000",
          "2023-10-20 00:00:00.000000",
          "2023-10-21 00:00:00.000000",
          "2023-10-22 00:00:00.000000",
          "2023-10-23 00:00:00.000000",
          "2023-10-24 00:00:00.000000",
          "2023-10-25 00:00:00.000000",
          "2023-10-26 00:00:00.000000",
          "2023-10-27 00:00:00.000000",
          "2023-10-28 00:00:00.000000",
          "2023-10-29 00:00:00.000000",
          "2023-10-30 00:00:00.000000",
          "2023-10-31 00:00:00.000000",
          "2023-11-01 00:00:00.000000",
          "2023-11-02 00:00:00.000000",
          "2023-11-03 00:00:00.000000",
          "2023-11-04 00:00:00.000000",
          "2023-11-05 00:00:00.000000",
          "2023-11-06 00:00:00.000000",
          "2023-11-07 00:00:00.000000",
          "2023-11-08 00:00:00.000000",
          "2023-11-09 00:00:00.000000",
          "2023-11-10 00:00:00.000000",
          "2023-11-11 00:00:00.000000",
          "2023-11-12 00:00:00.000000",
          "2023-11-13 00:00:00.000000",
          "2023-11-14 00:00:00.000000",
          "2023-11-15 00:00:00.000000",
          "2023-11-16 00:00:00.000000",
          "2023-11-17 00:00:00.000000",
          "2023-11-18 00:00:00.000000",
          "2023-11-19 00:00:00.000000",
          "2023-11-20 00:00:00.000000",
          "2023-11-21 00:00:00.000000",
          "2023-11-22 00:00:00.000000",
          "2023-11-23 00:00:00.000000",
          "2023-11-24 00:00:00.000000",
          "2023-11-25 00:00:00.000000"
         ],
         "y": [
          9757473,
          10397890,
          10401762,
          10405635,
          10409507,
          10413379,
          10417252,
          10421125,
          10424997,
          10428869,
          10432741,
          10436613,
          10440486,
          10444358,
          10448230,
          10439442,
          10443314,
          10447186,
          10451060,
          10454932,
          10458804,
          10462676,
          10466549,
          10470421,
          10474293,
          10478165,
          10482037,
          10485910,
          10489783,
          10493655,
          10497528,
          10501400,
          10505272,
          10509144,
          10513016,
          10516889,
          10520761,
          10524633,
          10528506,
          10532379,
          10536251,
          10540123,
          10543995,
          10547867,
          10551740,
          10546824,
          10550696,
          10554568,
          10558440,
          10562313,
          10566186,
          10570058,
          10573930,
          10577803,
          10581675,
          10585547,
          10589419,
          10593291,
          10597164,
          10601037,
          10604909,
          10608782,
          10612654,
          10616526,
          10620398,
          10624270,
          10628143,
          10632015,
          10635887,
          10639760,
          10643633,
          10647505,
          10651377,
          10655249,
          10659121,
          10662994,
          10654206,
          10658078,
          10661950,
          10665822,
          10669694,
          10673568,
          10677440,
          10681312,
          10685184,
          10689057,
          10692929,
          10696801,
          10700673,
          10704546,
          10708418,
          10712291,
          10716163,
          10720036,
          10723908,
          10727780,
          10731652,
          10735524,
          10739397,
          10743269
         ]
        }
       ],
       "layout": {
        "autosize": true,
        "template": {
         "data": {
          "bar": [
           {
            "error_x": {
             "color": "#f2f5fa"
            },
            "error_y": {
             "color": "#f2f5fa"
            },
            "marker": {
             "line": {
              "color": "rgb(17,17,17)",
              "width": 0.5
             },
             "pattern": {
              "fillmode": "overlay",
              "size": 10,
              "solidity": 0.2
             }
            },
            "type": "bar"
           }
          ],
          "barpolar": [
           {
            "marker": {
             "line": {
              "color": "rgb(17,17,17)",
              "width": 0.5
             },
             "pattern": {
              "fillmode": "overlay",
              "size": 10,
              "solidity": 0.2
             }
            },
            "type": "barpolar"
           }
          ],
          "carpet": [
           {
            "aaxis": {
             "endlinecolor": "#A2B1C6",
             "gridcolor": "#506784",
             "linecolor": "#506784",
             "minorgridcolor": "#506784",
             "startlinecolor": "#A2B1C6"
            },
            "baxis": {
             "endlinecolor": "#A2B1C6",
             "gridcolor": "#506784",
             "linecolor": "#506784",
             "minorgridcolor": "#506784",
             "startlinecolor": "#A2B1C6"
            },
            "type": "carpet"
           }
          ],
          "choropleth": [
           {
            "colorbar": {
             "outlinewidth": 0,
             "ticks": ""
            },
            "type": "choropleth"
           }
          ],
          "contour": [
           {
            "colorbar": {
             "outlinewidth": 0,
             "ticks": ""
            },
            "colorscale": [
             [
              0,
              "#0d0887"
             ],
             [
              0.1111111111111111,
              "#46039f"
             ],
             [
              0.2222222222222222,
              "#7201a8"
             ],
             [
              0.3333333333333333,
              "#9c179e"
             ],
             [
              0.4444444444444444,
              "#bd3786"
             ],
             [
              0.5555555555555556,
              "#d8576b"
             ],
             [
              0.6666666666666666,
              "#ed7953"
             ],
             [
              0.7777777777777778,
              "#fb9f3a"
             ],
             [
              0.8888888888888888,
              "#fdca26"
             ],
             [
              1,
              "#f0f921"
             ]
            ],
            "type": "contour"
           }
          ],
          "contourcarpet": [
           {
            "colorbar": {
             "outlinewidth": 0,
             "ticks": ""
            },
            "type": "contourcarpet"
           }
          ],
          "heatmap": [
           {
            "colorbar": {
             "outlinewidth": 0,
             "ticks": ""
            },
            "colorscale": [
             [
              0,
              "#0d0887"
             ],
             [
              0.1111111111111111,
              "#46039f"
             ],
             [
              0.2222222222222222,
              "#7201a8"
             ],
             [
              0.3333333333333333,
              "#9c179e"
             ],
             [
              0.4444444444444444,
              "#bd3786"
             ],
             [
              0.5555555555555556,
              "#d8576b"
             ],
             [
              0.6666666666666666,
              "#ed7953"
             ],
             [
              0.7777777777777778,
              "#fb9f3a"
             ],
             [
              0.8888888888888888,
              "#fdca26"
             ],
             [
              1,
              "#f0f921"
             ]
            ],
            "type": "heatmap"
           }
          ],
          "heatmapgl": [
           {
            "colorbar": {
             "outlinewidth": 0,
             "ticks": ""
            },
            "colorscale": [
             [
              0,
              "#0d0887"
             ],
             [
              0.1111111111111111,
              "#46039f"
             ],
             [
              0.2222222222222222,
              "#7201a8"
             ],
             [
              0.3333333333333333,
              "#9c179e"
             ],
             [
              0.4444444444444444,
              "#bd3786"
             ],
             [
              0.5555555555555556,
              "#d8576b"
             ],
             [
              0.6666666666666666,
              "#ed7953"
             ],
             [
              0.7777777777777778,
              "#fb9f3a"
             ],
             [
              0.8888888888888888,
              "#fdca26"
             ],
             [
              1,
              "#f0f921"
             ]
            ],
            "type": "heatmapgl"
           }
          ],
          "histogram": [
           {
            "marker": {
             "pattern": {
              "fillmode": "overlay",
              "size": 10,
              "solidity": 0.2
             }
            },
            "type": "histogram"
           }
          ],
          "histogram2d": [
           {
            "colorbar": {
             "outlinewidth": 0,
             "ticks": ""
            },
            "colorscale": [
             [
              0,
              "#0d0887"
             ],
             [
              0.1111111111111111,
              "#46039f"
             ],
             [
              0.2222222222222222,
              "#7201a8"
             ],
             [
              0.3333333333333333,
              "#9c179e"
             ],
             [
              0.4444444444444444,
              "#bd3786"
             ],
             [
              0.5555555555555556,
              "#d8576b"
             ],
             [
              0.6666666666666666,
              "#ed7953"
             ],
             [
              0.7777777777777778,
              "#fb9f3a"
             ],
             [
              0.8888888888888888,
              "#fdca26"
             ],
             [
              1,
              "#f0f921"
             ]
            ],
            "type": "histogram2d"
           }
          ],
          "histogram2dcontour": [
           {
            "colorbar": {
             "outlinewidth": 0,
             "ticks": ""
            },
            "colorscale": [
             [
              0,
              "#0d0887"
             ],
             [
              0.1111111111111111,
              "#46039f"
             ],
             [
              0.2222222222222222,
              "#7201a8"
             ],
             [
              0.3333333333333333,
              "#9c179e"
             ],
             [
              0.4444444444444444,
              "#bd3786"
             ],
             [
              0.5555555555555556,
              "#d8576b"
             ],
             [
              0.6666666666666666,
              "#ed7953"
             ],
             [
              0.7777777777777778,
              "#fb9f3a"
             ],
             [
              0.8888888888888888,
              "#fdca26"
             ],
             [
              1,
              "#f0f921"
             ]
            ],
            "type": "histogram2dcontour"
           }
          ],
          "mesh3d": [
           {
            "colorbar": {
             "outlinewidth": 0,
             "ticks": ""
            },
            "type": "mesh3d"
           }
          ],
          "parcoords": [
           {
            "line": {
             "colorbar": {
              "outlinewidth": 0,
              "ticks": ""
             }
            },
            "type": "parcoords"
           }
          ],
          "pie": [
           {
            "automargin": true,
            "type": "pie"
           }
          ],
          "scatter": [
           {
            "marker": {
             "line": {
              "color": "#283442"
             }
            },
            "type": "scatter"
           }
          ],
          "scatter3d": [
           {
            "line": {
             "colorbar": {
              "outlinewidth": 0,
              "ticks": ""
             }
            },
            "marker": {
             "colorbar": {
              "outlinewidth": 0,
              "ticks": ""
             }
            },
            "type": "scatter3d"
           }
          ],
          "scattercarpet": [
           {
            "marker": {
             "colorbar": {
              "outlinewidth": 0,
              "ticks": ""
             }
            },
            "type": "scattercarpet"
           }
          ],
          "scattergeo": [
           {
            "marker": {
             "colorbar": {
              "outlinewidth": 0,
              "ticks": ""
             }
            },
            "type": "scattergeo"
           }
          ],
          "scattergl": [
           {
            "marker": {
             "line": {
              "color": "#283442"
             }
            },
            "type": "scattergl"
           }
          ],
          "scattermapbox": [
           {
            "marker": {
             "colorbar": {
              "outlinewidth": 0,
              "ticks": ""
             }
            },
            "type": "scattermapbox"
           }
          ],
          "scatterpolar": [
           {
            "marker": {
             "colorbar": {
              "outlinewidth": 0,
              "ticks": ""
             }
            },
            "type": "scatterpolar"
           }
          ],
          "scatterpolargl": [
           {
            "marker": {
             "colorbar": {
              "outlinewidth": 0,
              "ticks": ""
             }
            },
            "type": "scatterpolargl"
           }
          ],
          "scatterternary": [
           {
            "marker": {
             "colorbar": {
              "outlinewidth": 0,
              "ticks": ""
             }
            },
            "type": "scatterternary"
           }
          ],
          "surface": [
           {
            "colorbar": {
             "outlinewidth": 0,
             "ticks": ""
            },
            "colorscale": [
             [
              0,
              "#0d0887"
             ],
             [
              0.1111111111111111,
              "#46039f"
             ],
             [
              0.2222222222222222,
              "#7201a8"
             ],
             [
              0.3333333333333333,
              "#9c179e"
             ],
             [
              0.4444444444444444,
              "#bd3786"
             ],
             [
              0.5555555555555556,
              "#d8576b"
             ],
             [
              0.6666666666666666,
              "#ed7953"
             ],
             [
              0.7777777777777778,
              "#fb9f3a"
             ],
             [
              0.8888888888888888,
              "#fdca26"
             ],
             [
              1,
              "#f0f921"
             ]
            ],
            "type": "surface"
           }
          ],
          "table": [
           {
            "cells": {
             "fill": {
              "color": "#506784"
             },
             "line": {
              "color": "rgb(17,17,17)"
             }
            },
            "header": {
             "fill": {
              "color": "#2a3f5f"
             },
             "line": {
              "color": "rgb(17,17,17)"
             }
            },
            "type": "table"
           }
          ]
         },
         "layout": {
          "annotationdefaults": {
           "arrowcolor": "#f2f5fa",
           "arrowhead": 0,
           "arrowwidth": 1
          },
          "autotypenumbers": "strict",
          "coloraxis": {
           "colorbar": {
            "outlinewidth": 0,
            "ticks": ""
           }
          },
          "colorscale": {
           "diverging": [
            [
             0,
             "#8e0152"
            ],
            [
             0.1,
             "#c51b7d"
            ],
            [
             0.2,
             "#de77ae"
            ],
            [
             0.3,
             "#f1b6da"
            ],
            [
             0.4,
             "#fde0ef"
            ],
            [
             0.5,
             "#f7f7f7"
            ],
            [
             0.6,
             "#e6f5d0"
            ],
            [
             0.7,
             "#b8e186"
            ],
            [
             0.8,
             "#7fbc41"
            ],
            [
             0.9,
             "#4d9221"
            ],
            [
             1,
             "#276419"
            ]
           ],
           "sequential": [
            [
             0,
             "#0d0887"
            ],
            [
             0.1111111111111111,
             "#46039f"
            ],
            [
             0.2222222222222222,
             "#7201a8"
            ],
            [
             0.3333333333333333,
             "#9c179e"
            ],
            [
             0.4444444444444444,
             "#bd3786"
            ],
            [
             0.5555555555555556,
             "#d8576b"
            ],
            [
             0.6666666666666666,
             "#ed7953"
            ],
            [
             0.7777777777777778,
             "#fb9f3a"
            ],
            [
             0.8888888888888888,
             "#fdca26"
            ],
            [
             1,
             "#f0f921"
            ]
           ],
           "sequentialminus": [
            [
             0,
             "#0d0887"
            ],
            [
             0.1111111111111111,
             "#46039f"
            ],
            [
             0.2222222222222222,
             "#7201a8"
            ],
            [
             0.3333333333333333,
             "#9c179e"
            ],
            [
             0.4444444444444444,
             "#bd3786"
            ],
            [
             0.5555555555555556,
             "#d8576b"
            ],
            [
             0.6666666666666666,
             "#ed7953"
            ],
            [
             0.7777777777777778,
             "#fb9f3a"
            ],
            [
             0.8888888888888888,
             "#fdca26"
            ],
            [
             1,
             "#f0f921"
            ]
           ]
          },
          "colorway": [
           "#636efa",
           "#EF553B",
           "#00cc96",
           "#ab63fa",
           "#FFA15A",
           "#19d3f3",
           "#FF6692",
           "#B6E880",
           "#FF97FF",
           "#FECB52"
          ],
          "font": {
           "color": "#f2f5fa"
          },
          "geo": {
           "bgcolor": "rgb(17,17,17)",
           "lakecolor": "rgb(17,17,17)",
           "landcolor": "rgb(17,17,17)",
           "showlakes": true,
           "showland": true,
           "subunitcolor": "#506784"
          },
          "hoverlabel": {
           "align": "left"
          },
          "hovermode": "closest",
          "mapbox": {
           "style": "dark"
          },
          "paper_bgcolor": "rgb(17,17,17)",
          "plot_bgcolor": "rgb(17,17,17)",
          "polar": {
           "angularaxis": {
            "gridcolor": "#506784",
            "linecolor": "#506784",
            "ticks": ""
           },
           "bgcolor": "rgb(17,17,17)",
           "radialaxis": {
            "gridcolor": "#506784",
            "linecolor": "#506784",
            "ticks": ""
           }
          },
          "scene": {
           "xaxis": {
            "backgroundcolor": "rgb(17,17,17)",
            "gridcolor": "#506784",
            "gridwidth": 2,
            "linecolor": "#506784",
            "showbackground": true,
            "ticks": "",
            "zerolinecolor": "#C8D4E3"
           },
           "yaxis": {
            "backgroundcolor": "rgb(17,17,17)",
            "gridcolor": "#506784",
            "gridwidth": 2,
            "linecolor": "#506784",
            "showbackground": true,
            "ticks": "",
            "zerolinecolor": "#C8D4E3"
           },
           "zaxis": {
            "backgroundcolor": "rgb(17,17,17)",
            "gridcolor": "#506784",
            "gridwidth": 2,
            "linecolor": "#506784",
            "showbackground": true,
            "ticks": "",
            "zerolinecolor": "#C8D4E3"
           }
          },
          "shapedefaults": {
           "line": {
            "color": "#f2f5fa"
           }
          },
          "sliderdefaults": {
           "bgcolor": "#C8D4E3",
           "bordercolor": "rgb(17,17,17)",
           "borderwidth": 1,
           "tickwidth": 0
          },
          "ternary": {
           "aaxis": {
            "gridcolor": "#506784",
            "linecolor": "#506784",
            "ticks": ""
           },
           "baxis": {
            "gridcolor": "#506784",
            "linecolor": "#506784",
            "ticks": ""
           },
           "bgcolor": "rgb(17,17,17)",
           "caxis": {
            "gridcolor": "#506784",
            "linecolor": "#506784",
            "ticks": ""
           }
          },
          "title": {
           "x": 0.05
          },
          "updatemenudefaults": {
           "bgcolor": "#506784",
           "borderwidth": 0
          },
          "xaxis": {
           "automargin": true,
           "gridcolor": "#283442",
           "linecolor": "#506784",
           "ticks": "",
           "title": {
            "standoff": 15
           },
           "zerolinecolor": "#283442",
           "zerolinewidth": 2
          },
          "yaxis": {
           "automargin": true,
           "gridcolor": "#283442",
           "linecolor": "#506784",
           "ticks": "",
           "title": {
            "standoff": 15
           },
           "zerolinecolor": "#283442",
           "zerolinewidth": 2
          }
         }
        },
        "title": {
         "text": "PyPI Package Download Rate Prediction"
        },
        "xaxis": {
         "autorange": true,
         "range": [
          "2023-02-19",
          "2023-11-25"
         ],
         "title": {
          "text": "Dates"
         },
         "type": "date"
        },
        "yaxis": {
         "autorange": true,
         "range": [
          5778266.611111111,
          13886014.388888888
         ],
         "title": {
          "text": "Downloads"
         },
         "type": "linear"
        }
       }
      },
      "image/png": "[encoded data removed]",
      "text/html": [
       "<div>                            <div id=\"928d89cb-b96c-4441-b2d6-c84e6e399052\" class=\"plotly-graph-div\" style=\"height:525px; width:100%;\"></div>            <script type=\"text/javascript\">                require([\"plotly\"], function(Plotly) {                    window.PLOTLYENV=window.PLOTLYENV || {};                                    if (document.getElementById(\"928d89cb-b96c-4441-b2d6-c84e6e399052\")) {                    Plotly.newPlot(                        \"928d89cb-b96c-4441-b2d6-c84e6e399052\",                        [{\"mode\":\"lines\",\"name\":\"Data\",\"x\":[\"2023-02-19\",\"2023-02-20\",\"2023-02-21\",\"2023-02-22\",\"2023-02-23\",\"2023-02-24\",\"2023-02-25\",\"2023-02-26\",\"2023-02-27\",\"2023-02-28\",\"2023-03-01\",\"2023-03-02\",\"2023-03-03\",\"2023-03-04\",\"2023-03-05\",\"2023-03-06\",\"2023-03-07\",\"2023-03-08\",\"2023-03-09\",\"2023-03-10\",\"2023-03-11\",\"2023-03-12\",\"2023-03-13\",\"2023-03-14\",\"2023-03-15\",\"2023-03-16\",\"2023-03-17\",\"2023-03-18\",\"2023-03-19\",\"2023-03-20\",\"2023-03-21\",\"2023-03-22\",\"2023-03-23\",\"2023-03-24\",\"2023-03-25\",\"2023-03-26\",\"2023-03-27\",\"2023-03-28\",\"2023-03-29\",\"2023-03-30\",\"2023-03-31\",\"2023-04-01\",\"2023-04-02\",\"2023-04-03\",\"2023-04-04\",\"2023-04-05\",\"2023-04-06\",\"2023-04-07\",\"2023-04-08\",\"2023-04-09\",\"2023-04-10\",\"2023-04-11\",\"2023-04-12\",\"2023-04-13\",\"2023-04-14\",\"2023-04-15\",\"2023-04-16\",\"2023-04-17\",\"2023-04-18\",\"2023-04-19\",\"2023-04-20\",\"2023-04-21\",\"2023-04-22\",\"2023-04-23\",\"2023-04-24\",\"2023-04-25\",\"2023-04-26\",\"2023-04-27\",\"2023-04-28\",\"2023-04-29\",\"2023-04-30\",\"2023-05-01\",\"2023-05-02\",\"2023-05-03\",\"2023-05-04\",\"2023-05-05\",\"2023-05-06\",\"2023-05-07\",\"2023-05-08\",\"2023-05-09\",\"2023-05-10\",\"2023-05-11\",\"2023-05-12\",\"2023-05-13\",\"2023-05-14\",\"2023-05-15\",\"2023-05-16\",\"2023-05-17\",\"2023-05-18\",\"2023-05-19\",\"2023-05-20\",\"2023-05-21\",\"2023-05-22\",\"2023-05-23\",\"2023-05-24\",\"2023-05-25\",\"2023-05-26\",\"2023-05-27\",\"2023-05-28\",\"2023-05-29\",\"2023-05-30\",\"2023-05-31\",\"2023-06-01\",\"2023-06-02\",\"2023-06-03\",\"2023-06-04\",\"2023-06-05\",\"2023-06-06\",\"2023-06-07\",\"2023-06-08\",\"2023-06-09\",\"2023-06-10\",\"2023-06-11\",\"2023-06-12\",\"2023-06-13\",\"2023-06-14\",\"2023-06-15\",\"2023-06-16\",\"2023-06-17\",\"2023-06-18\",\"2023-06-19\",\"2023-06-20\",\"2023-06-21\",\"2023-06-22\",\"2023-06-23\",\"2023-06-24\",\"2023-06-25\",\"2023-06-26\",\"2023-06-27\",\"2023-06-28\",\"2023-06-29\",\"2023-06-30\",\"2023-07-01\",\"2023-07-02\",\"2023-07-03\",\"2023-07-04\",\"2023-07-05\",\"2023-07-06\",\"2023-07-07\",\"2023-07-08\",\"2023-07-09\",\"2023-07-10\",\"2023-07-11\",\"2023-07-12\",\"2023-07-13\",\"2023-07-14\",\"2023-07-15\",\"2023-07-16\",\"2023-07-17\",\"2023-07-18\",\"2023-07-19\",\"2023-07-20\",\"2023-07-21\",\"2023-07-22\",\"2023-07-23\",\"2023-07-24\",\"2023-07-25\",\"2023-07-26\",\"2023-07-27\",\"2023-07-28\",\"2023-07-29\",\"2023-07-30\",\"2023-07-31\",\"2023-08-01\",\"2023-08-02\",\"2023-08-03\",\"2023-08-04\",\"2023-08-05\",\"2023-08-06\",\"2023-08-07\",\"2023-08-08\",\"2023-08-09\",\"2023-08-10\",\"2023-08-11\",\"2023-08-12\",\"2023-08-13\",\"2023-08-14\",\"2023-08-15\",\"2023-08-16\",\"2023-08-17\",\"2023-08-18\"],\"y\":[6816997,9752751,10311303,11067099,11195492,10660879,7223736,7035681,10859511,11366324,11309819,11201337,10595057,7307183,7108631,10934875,11284416,10825640,11311661,10890398,7242000,7135531,10805441,11169230,11664040,11331696,10740519,7369846,7313614,11050846,11547759,11296150,11503559,10789761,7227271,7026270,10907598,11498549,11128255,11345369,10611067,7420661,6984549,10858433,11278108,11650259,11052185,8995032,6960974,6895486,9794274,11084868,11240290,11586444,10975402,7706096,7531438,11379053,11900229,12322503,11995693,10514482,7642598,7695741,11547431,11299692,11077251,11027604,10502420,6556964,6472146,8670846,10670205,10938275,11341041,12157017,8369238,8125046,11974622,12501067,12252970,12476041,11608979,7983127,7969221,11890928,12073916,11749446,11388474,10925623,7265301,7153632,11216276,11814589,11462550,11067364,10248951,6661885,6573846,9191886,10914490,11254568,11186393,10326425,6401906,6607258,10791500,10964488,10785797,10087659,10077917,6773245,6384133,10469705,10818866,11297970,11036392,10053513,6326352,6183654,9656453,10655511,10778248,10618294,9713100,6415234,6766696,10455317,11029446,10991739,10681260,9838524,6390360,6210002,9557416,9696767,10327788,10563305,9956813,6352215,6212602,10471372,10923437,10907696,10888344,9991468,6833404,7210436,11777320,12490124,12509043,12900834,11888384,7422125,7230764,12406921,13271090,13159569,13033803,12142339,7638779,7434357,12387994,13258515,13480627,13249426,12168491,7400251,7449717,12285371,13117588,12940551,12932934,11602907,7486561,7291715,12114336,12118483,12723765,12712452,11665657],\"type\":\"scatter\"},{\"mode\":\"lines\",\"name\":\"Prediction\",\"x\":[\"2023-02-20 00:00:00.000000\",\"2023-08-19 00:00:00.000000\",\"2023-08-20 00:00:00.000000\",\"2023-08-21 00:00:00.000000\",\"2023-08-22 00:00:00.000000\",\"2023-08-23 00:00:00.000000\",\"2023-08-24 00:00:00.000000\",\"2023-08-25 00:00:00.000000\",\"2023-08-26 00:00:00.000000\",\"2023-08-27 00:00:00.000000\",\"2023-08-28 00:00:00.000000\",\"2023-08-29 00:00:00.000000\",\"2023-08-30 00:00:00.000000\",\"2023-08-31 00:00:00.000000\",\"2023-09-01 00:00:00.000000\",\"2023-09-02 00:00:00.000000\",\"2023-09-03 00:00:00.000000\",\"2023-09-04 00:00:00.000000\",\"2023-09-05 00:00:00.000000\",\"2023-09-06 00:00:00.000000\",\"2023-09-07 00:00:00.000000\",\"2023-09-08 00:00:00.000000\",\"2023-09-09 00:00:00.000000\",\"2023-09-10 00:00:00.000000\",\"2023-09-11 00:00:00.000000\",\"2023-09-12 00:00:00.000000\",\"2023-09-13 00:00:00.000000\",\"2023-09-14 00:00:00.000000\",\"2023-09-15 00:00:00.000000\",\"2023-09-16 00:00:00.000000\",\"2023-09-17 00:00:00.000000\",\"2023-09-18 00:00:00.000000\",\"2023-09-19 00:00:00.000000\",\"2023-09-20 00:00:00.000000\",\"2023-09-21 00:00:00.000000\",\"2023-09-22 00:00:00.000000\",\"2023-09-23 00:00:00.000000\",\"2023-09-24 00:00:00.000000\",\"2023-09-25 00:00:00.000000\",\"2023-09-26 00:00:00.000000\",\"2023-09-27 00:00:00.000000\",\"2023-09-28 00:00:00.000000\",\"2023-09-29 00:00:00.000000\",\"2023-09-30 00:00:00.000000\",\"2023-10-01 00:00:00.000000\",\"2023-10-02 00:00:00.000000\",\"2023-10-03 00:00:00.000000\",\"2023-10-04 00:00:00.000000\",\"2023-10-05 00:00:00.000000\",\"2023-10-06 00:00:00.000000\",\"2023-10-07 00:00:00.000000\",\"2023-10-08 00:00:00.000000\",\"2023-10-09 00:00:00.000000\",\"2023-10-10 00:00:00.000000\",\"2023-10-11 00:00:00.000000\",\"2023-10-12 00:00:00.000000\",\"2023-10-13 00:00:00.000000\",\"2023-10-14 00:00:00.000000\",\"2023-10-15 00:00:00.000000\",\"2023-10-16 00:00:00.000000\",\"2023-10-17 00:00:00.000000\",\"2023-10-18 00:00:00.000000\",\"2023-10-19 00:00:00.000000\",\"2023-10-20 00:00:00.000000\",\"2023-10-21 00:00:00.000000\",\"2023-10-22 00:00:00.000000\",\"2023-10-23 00:00:00.000000\",\"2023-10-24 00:00:00.000000\",\"2023-10-25 00:00:00.000000\",\"2023-10-26 00:00:00.000000\",\"2023-10-27 00:00:00.000000\",\"2023-10-28 00:00:00.000000\",\"2023-10-29 00:00:00.000000\",\"2023-10-30 00:00:00.000000\",\"2023-10-31 00:00:00.000000\",\"2023-11-01 00:00:00.000000\",\"2023-11-02 00:00:00.000000\",\"2023-11-03 00:00:00.000000\",\"2023-11-04 00:00:00.000000\",\"2023-11-05 00:00:00.000000\",\"2023-11-06 00:00:00.000000\",\"2023-11-07 00:00:00.000000\",\"2023-11-08 00:00:00.000000\",\"2023-11-09 00:00:00.000000\",\"2023-11-10 00:00:00.000000\",\"2023-11-11 00:00:00.000000\",\"2023-11-12 00:00:00.000000\",\"2023-11-13 00:00:00.000000\",\"2023-11-14 00:00:00.000000\",\"2023-11-15 00:00:00.000000\",\"2023-11-16 00:00:00.000000\",\"2023-11-17 00:00:00.000000\",\"2023-11-18 00:00:00.000000\",\"2023-11-19 00:00:00.000000\",\"2023-11-20 00:00:00.000000\",\"2023-11-21 00:00:00.000000\",\"2023-11-22 00:00:00.000000\",\"2023-11-23 00:00:00.000000\",\"2023-11-24 00:00:00.000000\",\"2023-11-25 00:00:00.000000\"],\"y\":[9757473,10397890,10401762,10405635,10409507,10413379,10417252,10421125,10424997,10428869,10432741,10436613,10440486,10444358,10448230,10439442,10443314,10447186,10451060,10454932,10458804,10462676,10466549,10470421,10474293,10478165,10482037,10485910,10489783,10493655,10497528,10501400,10505272,10509144,10513016,10516889,10520761,10524633,10528506,10532379,10536251,10540123,10543995,10547867,10551740,10546824,10550696,10554568,10558440,10562313,10566186,10570058,10573930,10577803,10581675,10585547,10589419,10593291,10597164,10601037,10604909,10608782,10612654,10616526,10620398,10624270,10628143,10632015,10635887,10639760,10643633,10647505,10651377,10655249,10659121,10662994,10654206,10658078,10661950,10665822,10669694,10673568,10677440,10681312,10685184,10689057,10692929,10696801,10700673,10704546,10708418,10712291,10716163,10720036,10723908,10727780,10731652,10735524,10739397,10743269],\"type\":\"scatter\"}],                        {\"template\":{\"data\":{\"barpolar\":[{\"marker\":{\"line\":{\"color\":\"rgb(17,17,17)\",\"width\":0.5},\"pattern\":{\"fillmode\":\"overlay\",\"size\":10,\"solidity\":0.2}},\"type\":\"barpolar\"}],\"bar\":[{\"error_x\":{\"color\":\"#f2f5fa\"},\"error_y\":{\"color\":\"#f2f5fa\"},\"marker\":{\"line\":{\"color\":\"rgb(17,17,17)\",\"width\":0.5},\"pattern\":{\"fillmode\":\"overlay\",\"size\":10,\"solidity\":0.2}},\"type\":\"bar\"}],\"carpet\":[{\"aaxis\":{\"endlinecolor\":\"#A2B1C6\",\"gridcolor\":\"#506784\",\"linecolor\":\"#506784\",\"minorgridcolor\":\"#506784\",\"startlinecolor\":\"#A2B1C6\"},\"baxis\":{\"endlinecolor\":\"#A2B1C6\",\"gridcolor\":\"#506784\",\"linecolor\":\"#506784\",\"minorgridcolor\":\"#506784\",\"startlinecolor\":\"#A2B1C6\"},\"type\":\"carpet\"}],\"choropleth\":[{\"colorbar\":{\"outlinewidth\":0,\"ticks\":\"\"},\"type\":\"choropleth\"}],\"contourcarpet\":[{\"colorbar\":{\"outlinewidth\":0,\"ticks\":\"\"},\"type\":\"contourcarpet\"}],\"contour\":[{\"colorbar\":{\"outlinewidth\":0,\"ticks\":\"\"},\"colorscale\":[[0.0,\"#0d0887\"],[0.1111111111111111,\"#46039f\"],[0.2222222222222222,\"#7201a8\"],[0.3333333333333333,\"#9c179e\"],[0.4444444444444444,\"#bd3786\"],[0.5555555555555556,\"#d8576b\"],[0.6666666666666666,\"#ed7953\"],[0.7777777777777778,\"#fb9f3a\"],[0.8888888888888888,\"#fdca26\"],[1.0,\"#f0f921\"]],\"type\":\"contour\"}],\"heatmapgl\":[{\"colorbar\":{\"outlinewidth\":0,\"ticks\":\"\"},\"colorscale\":[[0.0,\"#0d0887\"],[0.1111111111111111,\"#46039f\"],[0.2222222222222222,\"#7201a8\"],[0.3333333333333333,\"#9c179e\"],[0.4444444444444444,\"#bd3786\"],[0.5555555555555556,\"#d8576b\"],[0.6666666666666666,\"#ed7953\"],[0.7777777777777778,\"#fb9f3a\"],[0.8888888888888888,\"#fdca26\"],[1.0,\"#f0f921\"]],\"type\":\"heatmapgl\"}],\"heatmap\":[{\"colorbar\":{\"outlinewidth\":0,\"ticks\":\"\"},\"colorscale\":[[0.0,\"#0d0887\"],[0.1111111111111111,\"#46039f\"],[0.2222222222222222,\"#7201a8\"],[0.3333333333333333,\"#9c179e\"],[0.4444444444444444,\"#bd3786\"],[0.5555555555555556,\"#d8576b\"],[0.6666666666666666,\"#ed7953\"],[0.7777777777777778,\"#fb9f3a\"],[0.8888888888888888,\"#fdca26\"],[1.0,\"#f0f921\"]],\"type\":\"heatmap\"}],\"histogram2dcontour\":[{\"colorbar\":{\"outlinewidth\":0,\"ticks\":\"\"},\"colorscale\":[[0.0,\"#0d0887\"],[0.1111111111111111,\"#46039f\"],[0.2222222222222222,\"#7201a8\"],[0.3333333333333333,\"#9c179e\"],[0.4444444444444444,\"#bd3786\"],[0.5555555555555556,\"#d8576b\"],[0.6666666666666666,\"#ed7953\"],[0.7777777777777778,\"#fb9f3a\"],[0.8888888888888888,\"#fdca26\"],[1.0,\"#f0f921\"]],\"type\":\"histogram2dcontour\"}],\"histogram2d\":[{\"colorbar\":{\"outlinewidth\":0,\"ticks\":\"\"},\"colorscale\":[[0.0,\"#0d0887\"],[0.1111111111111111,\"#46039f\"],[0.2222222222222222,\"#7201a8\"],[0.3333333333333333,\"#9c179e\"],[0.4444444444444444,\"#bd3786\"],[0.5555555555555556,\"#d8576b\"],[0.6666666666666666,\"#ed7953\"],[0.7777777777777778,\"#fb9f3a\"],[0.8888888888888888,\"#fdca26\"],[1.0,\"#f0f921\"]],\"type\":\"histogram2d\"}],\"histogram\":[{\"marker\":{\"pattern\":{\"fillmode\":\"overlay\",\"size\":10,\"solidity\":0.2}},\"type\":\"histogram\"}],\"mesh3d\":[{\"colorbar\":{\"outlinewidth\":0,\"ticks\":\"\"},\"type\":\"mesh3d\"}],\"parcoords\":[{\"line\":{\"colorbar\":{\"outlinewidth\":0,\"ticks\":\"\"}},\"type\":\"parcoords\"}],\"pie\":[{\"automargin\":true,\"type\":\"pie\"}],\"scatter3d\":[{\"line\":{\"colorbar\":{\"outlinewidth\":0,\"ticks\":\"\"}},\"marker\":{\"colorbar\":{\"outlinewidth\":0,\"ticks\":\"\"}},\"type\":\"scatter3d\"}],\"scattercarpet\":[{\"marker\":{\"colorbar\":{\"outlinewidth\":0,\"ticks\":\"\"}},\"type\":\"scattercarpet\"}],\"scattergeo\":[{\"marker\":{\"colorbar\":{\"outlinewidth\":0,\"ticks\":\"\"}},\"type\":\"scattergeo\"}],\"scattergl\":[{\"marker\":{\"line\":{\"color\":\"#283442\"}},\"type\":\"scattergl\"}],\"scattermapbox\":[{\"marker\":{\"colorbar\":{\"outlinewidth\":0,\"ticks\":\"\"}},\"type\":\"scattermapbox\"}],\"scatterpolargl\":[{\"marker\":{\"colorbar\":{\"outlinewidth\":0,\"ticks\":\"\"}},\"type\":\"scatterpolargl\"}],\"scatterpolar\":[{\"marker\":{\"colorbar\":{\"outlinewidth\":0,\"ticks\":\"\"}},\"type\":\"scatterpolar\"}],\"scatter\":[{\"marker\":{\"line\":{\"color\":\"#283442\"}},\"type\":\"scatter\"}],\"scatterternary\":[{\"marker\":{\"colorbar\":{\"outlinewidth\":0,\"ticks\":\"\"}},\"type\":\"scatterternary\"}],\"surface\":[{\"colorbar\":{\"outlinewidth\":0,\"ticks\":\"\"},\"colorscale\":[[0.0,\"#0d0887\"],[0.1111111111111111,\"#46039f\"],[0.2222222222222222,\"#7201a8\"],[0.3333333333333333,\"#9c179e\"],[0.4444444444444444,\"#bd3786\"],[0.5555555555555556,\"#d8576b\"],[0.6666666666666666,\"#ed7953\"],[0.7777777777777778,\"#fb9f3a\"],[0.8888888888888888,\"#fdca26\"],[1.0,\"#f0f921\"]],\"type\":\"surface\"}],\"table\":[{\"cells\":{\"fill\":{\"color\":\"#506784\"},\"line\":{\"color\":\"rgb(17,17,17)\"}},\"header\":{\"fill\":{\"color\":\"#2a3f5f\"},\"line\":{\"color\":\"rgb(17,17,17)\"}},\"type\":\"table\"}]},\"layout\":{\"annotationdefaults\":{\"arrowcolor\":\"#f2f5fa\",\"arrowhead\":0,\"arrowwidth\":1},\"autotypenumbers\":\"strict\",\"coloraxis\":{\"colorbar\":{\"outlinewidth\":0,\"ticks\":\"\"}},\"colorscale\":{\"diverging\":[[0,\"#8e0152\"],[0.1,\"#c51b7d\"],[0.2,\"#de77ae\"],[0.3,\"#f1b6da\"],[0.4,\"#fde0ef\"],[0.5,\"#f7f7f7\"],[0.6,\"#e6f5d0\"],[0.7,\"#b8e186\"],[0.8,\"#7fbc41\"],[0.9,\"#4d9221\"],[1,\"#276419\"]],\"sequential\":[[0.0,\"#0d0887\"],[0.1111111111111111,\"#46039f\"],[0.2222222222222222,\"#7201a8\"],[0.3333333333333333,\"#9c179e\"],[0.4444444444444444,\"#bd3786\"],[0.5555555555555556,\"#d8576b\"],[0.6666666666666666,\"#ed7953\"],[0.7777777777777778,\"#fb9f3a\"],[0.8888888888888888,\"#fdca26\"],[1.0,\"#f0f921\"]],\"sequentialminus\":[[0.0,\"#0d0887\"],[0.1111111111111111,\"#46039f\"],[0.2222222222222222,\"#7201a8\"],[0.3333333333333333,\"#9c179e\"],[0.4444444444444444,\"#bd3786\"],[0.5555555555555556,\"#d8576b\"],[0.6666666666666666,\"#ed7953\"],[0.7777777777777778,\"#fb9f3a\"],[0.8888888888888888,\"#fdca26\"],[1.0,\"#f0f921\"]]},\"colorway\":[\"#636efa\",\"#EF553B\",\"#00cc96\",\"#ab63fa\",\"#FFA15A\",\"#19d3f3\",\"#FF6692\",\"#B6E880\",\"#FF97FF\",\"#FECB52\"],\"font\":{\"color\":\"#f2f5fa\"},\"geo\":{\"bgcolor\":\"rgb(17,17,17)\",\"lakecolor\":\"rgb(17,17,17)\",\"landcolor\":\"rgb(17,17,17)\",\"showlakes\":true,\"showland\":true,\"subunitcolor\":\"#506784\"},\"hoverlabel\":{\"align\":\"left\"},\"hovermode\":\"closest\",\"mapbox\":{\"style\":\"dark\"},\"paper_bgcolor\":\"rgb(17,17,17)\",\"plot_bgcolor\":\"rgb(17,17,17)\",\"polar\":{\"angularaxis\":{\"gridcolor\":\"#506784\",\"linecolor\":\"#506784\",\"ticks\":\"\"},\"bgcolor\":\"rgb(17,17,17)\",\"radialaxis\":{\"gridcolor\":\"#506784\",\"linecolor\":\"#506784\",\"ticks\":\"\"}},\"scene\":{\"xaxis\":{\"backgroundcolor\":\"rgb(17,17,17)\",\"gridcolor\":\"#506784\",\"gridwidth\":2,\"linecolor\":\"#506784\",\"showbackground\":true,\"ticks\":\"\",\"zerolinecolor\":\"#C8D4E3\"},\"yaxis\":{\"backgroundcolor\":\"rgb(17,17,17)\",\"gridcolor\":\"#506784\",\"gridwidth\":2,\"linecolor\":\"#506784\",\"showbackground\":true,\"ticks\":\"\",\"zerolinecolor\":\"#C8D4E3\"},\"zaxis\":{\"backgroundcolor\":\"rgb(17,17,17)\",\"gridcolor\":\"#506784\",\"gridwidth\":2,\"linecolor\":\"#506784\",\"showbackground\":true,\"ticks\":\"\",\"zerolinecolor\":\"#C8D4E3\"}},\"shapedefaults\":{\"line\":{\"color\":\"#f2f5fa\"}},\"sliderdefaults\":{\"bgcolor\":\"#C8D4E3\",\"bordercolor\":\"rgb(17,17,17)\",\"borderwidth\":1,\"tickwidth\":0},\"ternary\":{\"aaxis\":{\"gridcolor\":\"#506784\",\"linecolor\":\"#506784\",\"ticks\":\"\"},\"baxis\":{\"gridcolor\":\"#506784\",\"linecolor\":\"#506784\",\"ticks\":\"\"},\"bgcolor\":\"rgb(17,17,17)\",\"caxis\":{\"gridcolor\":\"#506784\",\"linecolor\":\"#506784\",\"ticks\":\"\"}},\"title\":{\"x\":0.05},\"updatemenudefaults\":{\"bgcolor\":\"#506784\",\"borderwidth\":0},\"xaxis\":{\"automargin\":true,\"gridcolor\":\"#283442\",\"linecolor\":\"#506784\",\"ticks\":\"\",\"title\":{\"standoff\":15},\"zerolinecolor\":\"#283442\",\"zerolinewidth\":2},\"yaxis\":{\"automargin\":true,\"gridcolor\":\"#283442\",\"linecolor\":\"#506784\",\"ticks\":\"\",\"title\":{\"standoff\":15},\"zerolinecolor\":\"#283442\",\"zerolinewidth\":2}}},\"title\":{\"text\":\"PyPI Package Download Rate Prediction\"},\"xaxis\":{\"title\":{\"text\":\"Dates\"}},\"yaxis\":{\"title\":{\"text\":\"Downloads\"}}},                        {\"responsive\": true}                    ).then(function(){\n",
       "                            \n",
       "var gd = document.getElementById('928d89cb-b96c-4441-b2d6-c84e6e399052');\n",
       "var x = new MutationObserver(function (mutations, observer) {{\n",
       "        var display = window.getComputedStyle(gd).display;\n",
       "        if (!display || display === 'none') {{\n",
       "            console.log([gd, 'removed!']);\n",
       "            Plotly.purge(gd);\n",
       "            observer.disconnect();\n",
       "        }}\n",
       "}});\n",
       "\n",
       "// Listen for the removal of the full notebook cells\n",
       "var notebookContainer = gd.closest('#notebook-container');\n",
       "if (notebookContainer) {{\n",
       "    x.observe(notebookContainer, {childList: true});\n",
       "}}\n",
       "\n",
       "// Listen for the clearing of the current output cell\n",
       "var outputEl = gd.closest('.output');\n",
       "if (outputEl) {{\n",
       "    x.observe(outputEl, {childList: true});\n",
       "}}\n",
       "\n",
       "                        })                };                });            </script>        </div>"
      ]
     },
     "metadata": {},
     "output_type": "display_data"
    }
   ],
   "source": [
    "fig = go.Figure()\n",
    "\n",
    "fig.add_trace(\n",
    "    go.Scatter(\n",
    "        x=overall_df[\"date\"], y=overall_df[\"downloads\"], mode=\"lines\", name=\"Data\"\n",
    "    )\n",
    ")\n",
    "fig.add_trace(\n",
    "    go.Scatter(\n",
    "        x=predicted_df[\"date\"],\n",
    "        y=predicted_df[\"downloads\"],\n",
    "        mode=\"lines\",\n",
    "        name=\"Prediction\",\n",
    "    )\n",
    ")\n",
    "fig.update_layout(\n",
    "    title=\"PyPI Package Download Rate Prediction\",\n",
    "    xaxis_title=\"Dates\",\n",
    "    yaxis_title=\"Downloads\",\n",
    "    template=\"plotly_dark\",\n",
    ")\n",
    "\n",
    "fig.show()"
   ]
  },
  {
   "cell_type": "markdown",
   "id": "a6cfc558-07d4-4538-9192-86d7bd4a0b84",
   "metadata": {},
   "source": [
    "### Useful links"
   ]
  },
  {
   "cell_type": "markdown",
   "id": "d0fcbf00-91a3-45b2-8741-f1e8e9f7977e",
   "metadata": {},
   "source": [
    "- MindsDB's website: https://mindsdb.com\n",
    "- MindsDB's PyPI Handler: https://github.com/mindsdb/mindsdb/pull/7026"
   ]
  },
  {
   "cell_type": "code",
   "execution_count": null,
   "id": "f799b424-8943-4f35-8906-8072e0c21817",
   "metadata": {},
   "outputs": [],
   "source": []
  }
 ],
 "metadata": {
  "kernelspec": {
   "display_name": "venv",
   "language": "python",
   "name": "venv"
  },
  "language_info": {
   "codemirror_mode": {
    "name": "ipython",
    "version": 3
   },
   "file_extension": ".py",
   "mimetype": "text/x-python",
   "name": "python",
   "nbconvert_exporter": "python",
   "pygments_lexer": "ipython3",
   "version": "3.11.4"
  }
 },
 "nbformat": 4,
 "nbformat_minor": 5
}
